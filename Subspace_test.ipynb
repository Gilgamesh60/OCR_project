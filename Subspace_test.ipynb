{
  "nbformat": 4,
  "nbformat_minor": 0,
  "metadata": {
    "colab": {
      "provenance": [],
      "mount_file_id": "1kD-3ejcEbYzHcLeVnzqxxREelaTbw_ER",
      "authorship_tag": "ABX9TyM4VnRe0i5fTpK9jSaCGM+T",
      "include_colab_link": true
    },
    "kernelspec": {
      "name": "python3",
      "display_name": "Python 3"
    },
    "language_info": {
      "name": "python"
    }
  },
  "cells": [
    {
      "cell_type": "markdown",
      "metadata": {
        "id": "view-in-github",
        "colab_type": "text"
      },
      "source": [
        "<a href=\"https://colab.research.google.com/github/Gilgamesh60/OCR_project/blob/main/Subspace_test.ipynb\" target=\"_parent\"><img src=\"https://colab.research.google.com/assets/colab-badge.svg\" alt=\"Open In Colab\"/></a>"
      ]
    },
    {
      "cell_type": "markdown",
      "source": [
        "# Installing libraries"
      ],
      "metadata": {
        "id": "zWhEPtjP7ffk"
      }
    },
    {
      "cell_type": "markdown",
      "source": [
        "**Pytesseract for extracting texts from images**"
      ],
      "metadata": {
        "id": "a8Fi2iYUsSPA"
      }
    },
    {
      "cell_type": "code",
      "source": [
        "!pip3 install pytesseract"
      ],
      "metadata": {
        "id": "I_XBDGWu6iRY",
        "colab": {
          "base_uri": "https://localhost:8080/"
        },
        "outputId": "b3f5b411-1868-4ad2-d5e8-6ec3a200c07f"
      },
      "execution_count": null,
      "outputs": [
        {
          "output_type": "stream",
          "name": "stdout",
          "text": [
            "Looking in indexes: https://pypi.org/simple, https://us-python.pkg.dev/colab-wheels/public/simple/\n",
            "Requirement already satisfied: pytesseract in /usr/local/lib/python3.7/dist-packages (0.3.10)\n",
            "Requirement already satisfied: Pillow>=8.0.0 in /usr/local/lib/python3.7/dist-packages (from pytesseract) (9.2.0)\n",
            "Requirement already satisfied: packaging>=21.3 in /usr/local/lib/python3.7/dist-packages (from pytesseract) (21.3)\n",
            "Requirement already satisfied: pyparsing!=3.0.5,>=2.0.2 in /usr/local/lib/python3.7/dist-packages (from packaging>=21.3->pytesseract) (3.0.9)\n"
          ]
        }
      ]
    },
    {
      "cell_type": "code",
      "source": [
        "!apt install tesseract-ocr"
      ],
      "metadata": {
        "id": "Ppv6FSGx6yW7"
      },
      "execution_count": null,
      "outputs": []
    },
    {
      "cell_type": "markdown",
      "source": [
        "**Date detectors for finding dates from the text**"
      ],
      "metadata": {
        "id": "NaE3q6NbscCe"
      }
    },
    {
      "cell_type": "code",
      "source": [
        "!pip install datefinder"
      ],
      "metadata": {
        "id": "PSW_pISC7B6J"
      },
      "execution_count": null,
      "outputs": []
    },
    {
      "cell_type": "code",
      "source": [
        "!pip install dateparser"
      ],
      "metadata": {
        "id": "jJzS_EjqcjSf"
      },
      "execution_count": null,
      "outputs": []
    },
    {
      "cell_type": "code",
      "source": [
        "!pip install date_detector"
      ],
      "metadata": {
        "id": "bU7x7U67WqGy"
      },
      "execution_count": null,
      "outputs": []
    },
    {
      "cell_type": "markdown",
      "source": [
        "**Haar-cascades for face detection**"
      ],
      "metadata": {
        "id": "DjPIx978ssqF"
      }
    },
    {
      "cell_type": "code",
      "source": [
        "!wget --no-check-certificate \\\n",
        "    https://raw.githubusercontent.com/computationalcore/introduction-to-opencv/master/assets/haarcascade_frontalface_default.xml \\\n",
        "    -O haarcascade_frontalface_default.xml"
      ],
      "metadata": {
        "id": "M1p_qNAY3K1P"
      },
      "execution_count": null,
      "outputs": []
    },
    {
      "cell_type": "code",
      "source": [
        "!wget --no-check-certificate \\\n",
        "    https://raw.githubusercontent.com/computationalcore/introduction-to-opencv/master/assets/haarcascade_eye.xml \\"
      ],
      "metadata": {
        "id": "o9dbbMf4WHZy"
      },
      "execution_count": null,
      "outputs": []
    },
    {
      "cell_type": "markdown",
      "source": [
        "# Importing libraries\n",
        "\n"
      ],
      "metadata": {
        "id": "VTD_EriR8JFj"
      }
    },
    {
      "cell_type": "code",
      "source": [
        "import requests\n",
        "import os\n",
        "import pytesseract\n",
        "import numpy as np\n",
        "import pandas as pd\n",
        "from PIL import Image\n",
        "import datetime\n",
        "import re\n",
        "from dateparser import parse\n",
        "import string\n",
        "import cv2\n",
        "from google.colab.patches import cv2_imshow\n",
        "import numpy as np\n",
        "from date_detector import Parser\n",
        "import string\n",
        "import cv2\n",
        "from google.colab.patches import cv2_imshow"
      ],
      "metadata": {
        "id": "nikfMCtZe0K0"
      },
      "execution_count": null,
      "outputs": []
    },
    {
      "cell_type": "code",
      "source": [
        "#Converting the JSON file into csv format\n",
        "with open('data_load.json', encoding='utf-8') as inputfile:\n",
        "    df1 = pd.read_json(inputfile)\n",
        "df1.to_csv('file.csv', encoding='utf-8', index=False)"
      ],
      "metadata": {
        "id": "3SWuuZ50jn0b"
      },
      "execution_count": null,
      "outputs": []
    },
    {
      "cell_type": "code",
      "source": [
        "#Loading the given dataset\n",
        "df1=pd.read_csv('file.csv')\n",
        "df1"
      ],
      "metadata": {
        "id": "Y_Yi35rieOQY",
        "colab": {
          "base_uri": "https://localhost:8080/",
          "height": 424
        },
        "outputId": "ac579e66-a328-4e0f-a612-e129713d8a48"
      },
      "execution_count": null,
      "outputs": [
        {
          "output_type": "execute_result",
          "data": {
            "text/plain": [
              "                                           expiry_image expiring_at  \\\n",
              "0     https://cdn.subspace.money/w_subscriptions/Xk5...  2023-05-13   \n",
              "1     https://cdn.subspace.money/w_subscriptions/PKV...  2023-03-29   \n",
              "2     https://cdn.subspace.money/w_subscriptions/80E...  2022-12-27   \n",
              "3     https://cdn.subspace.money/w_subscriptions/JIX...  2022-10-22   \n",
              "4     https://cdn.subspace.money/w_subscriptions/p4r...  2022-07-12   \n",
              "...                                                 ...         ...   \n",
              "6723  https://cdn.subspace.money/w_subscriptions/OYl...  2023-10-07   \n",
              "6724  https://cdn.subspace.money/w_subscriptions/5av...  2022-11-07   \n",
              "6725  https://cdn.subspace.money/w_subscriptions/X4e...  2022-12-31   \n",
              "6726  https://cdn.subspace.money/w_subscriptions/qmT...  2022-11-07   \n",
              "6727  https://cdn.subspace.money/w_subscriptions/ana...  2023-03-23   \n",
              "\n",
              "     expiring_at_from_model                        created_at  \\\n",
              "0                2023-05-13  2022-05-15 04:27:17.955815+00:00   \n",
              "1                       NaN  2022-06-10 11:28:46.053421+00:00   \n",
              "2                2022-12-27  2022-07-21 16:30:53.316893+00:00   \n",
              "3                2022-08-22  2022-07-22 15:02:53.685566+00:00   \n",
              "4                       NaN  2022-06-12 05:16:00.847964+00:00   \n",
              "...                     ...                               ...   \n",
              "6723             2023-10-07  2022-10-07 16:03:36.596915+00:00   \n",
              "6724                    NaN  2022-10-07 16:06:06.037587+00:00   \n",
              "6725                    NaN  2022-10-07 17:25:59.667282+00:00   \n",
              "6726                    NaN  2022-06-14 08:22:25.590519+00:00   \n",
              "6727             2023-03-23  2022-09-24 15:10:06.040926+00:00   \n",
              "\n",
              "                                     whatsub_plan  \n",
              "0      {'duration': 3, 'duration_type': 'months'}  \n",
              "1       {'duration': 1, 'duration_type': 'years'}  \n",
              "2      {'duration': 1, 'duration_type': 'months'}  \n",
              "3      {'duration': 1, 'duration_type': 'months'}  \n",
              "4      {'duration': 1, 'duration_type': 'months'}  \n",
              "...                                           ...  \n",
              "6723  {'duration': 12, 'duration_type': 'months'}  \n",
              "6724   {'duration': 1, 'duration_type': 'months'}  \n",
              "6725   {'duration': 1, 'duration_type': 'months'}  \n",
              "6726   {'duration': 1, 'duration_type': 'months'}  \n",
              "6727   {'duration': 6, 'duration_type': 'months'}  \n",
              "\n",
              "[6728 rows x 5 columns]"
            ],
            "text/html": [
              "\n",
              "  <div id=\"df-4f555bfd-bd62-44c0-b008-3743c73b4e0c\">\n",
              "    <div class=\"colab-df-container\">\n",
              "      <div>\n",
              "<style scoped>\n",
              "    .dataframe tbody tr th:only-of-type {\n",
              "        vertical-align: middle;\n",
              "    }\n",
              "\n",
              "    .dataframe tbody tr th {\n",
              "        vertical-align: top;\n",
              "    }\n",
              "\n",
              "    .dataframe thead th {\n",
              "        text-align: right;\n",
              "    }\n",
              "</style>\n",
              "<table border=\"1\" class=\"dataframe\">\n",
              "  <thead>\n",
              "    <tr style=\"text-align: right;\">\n",
              "      <th></th>\n",
              "      <th>expiry_image</th>\n",
              "      <th>expiring_at</th>\n",
              "      <th>expiring_at_from_model</th>\n",
              "      <th>created_at</th>\n",
              "      <th>whatsub_plan</th>\n",
              "    </tr>\n",
              "  </thead>\n",
              "  <tbody>\n",
              "    <tr>\n",
              "      <th>0</th>\n",
              "      <td>https://cdn.subspace.money/w_subscriptions/Xk5...</td>\n",
              "      <td>2023-05-13</td>\n",
              "      <td>2023-05-13</td>\n",
              "      <td>2022-05-15 04:27:17.955815+00:00</td>\n",
              "      <td>{'duration': 3, 'duration_type': 'months'}</td>\n",
              "    </tr>\n",
              "    <tr>\n",
              "      <th>1</th>\n",
              "      <td>https://cdn.subspace.money/w_subscriptions/PKV...</td>\n",
              "      <td>2023-03-29</td>\n",
              "      <td>NaN</td>\n",
              "      <td>2022-06-10 11:28:46.053421+00:00</td>\n",
              "      <td>{'duration': 1, 'duration_type': 'years'}</td>\n",
              "    </tr>\n",
              "    <tr>\n",
              "      <th>2</th>\n",
              "      <td>https://cdn.subspace.money/w_subscriptions/80E...</td>\n",
              "      <td>2022-12-27</td>\n",
              "      <td>2022-12-27</td>\n",
              "      <td>2022-07-21 16:30:53.316893+00:00</td>\n",
              "      <td>{'duration': 1, 'duration_type': 'months'}</td>\n",
              "    </tr>\n",
              "    <tr>\n",
              "      <th>3</th>\n",
              "      <td>https://cdn.subspace.money/w_subscriptions/JIX...</td>\n",
              "      <td>2022-10-22</td>\n",
              "      <td>2022-08-22</td>\n",
              "      <td>2022-07-22 15:02:53.685566+00:00</td>\n",
              "      <td>{'duration': 1, 'duration_type': 'months'}</td>\n",
              "    </tr>\n",
              "    <tr>\n",
              "      <th>4</th>\n",
              "      <td>https://cdn.subspace.money/w_subscriptions/p4r...</td>\n",
              "      <td>2022-07-12</td>\n",
              "      <td>NaN</td>\n",
              "      <td>2022-06-12 05:16:00.847964+00:00</td>\n",
              "      <td>{'duration': 1, 'duration_type': 'months'}</td>\n",
              "    </tr>\n",
              "    <tr>\n",
              "      <th>...</th>\n",
              "      <td>...</td>\n",
              "      <td>...</td>\n",
              "      <td>...</td>\n",
              "      <td>...</td>\n",
              "      <td>...</td>\n",
              "    </tr>\n",
              "    <tr>\n",
              "      <th>6723</th>\n",
              "      <td>https://cdn.subspace.money/w_subscriptions/OYl...</td>\n",
              "      <td>2023-10-07</td>\n",
              "      <td>2023-10-07</td>\n",
              "      <td>2022-10-07 16:03:36.596915+00:00</td>\n",
              "      <td>{'duration': 12, 'duration_type': 'months'}</td>\n",
              "    </tr>\n",
              "    <tr>\n",
              "      <th>6724</th>\n",
              "      <td>https://cdn.subspace.money/w_subscriptions/5av...</td>\n",
              "      <td>2022-11-07</td>\n",
              "      <td>NaN</td>\n",
              "      <td>2022-10-07 16:06:06.037587+00:00</td>\n",
              "      <td>{'duration': 1, 'duration_type': 'months'}</td>\n",
              "    </tr>\n",
              "    <tr>\n",
              "      <th>6725</th>\n",
              "      <td>https://cdn.subspace.money/w_subscriptions/X4e...</td>\n",
              "      <td>2022-12-31</td>\n",
              "      <td>NaN</td>\n",
              "      <td>2022-10-07 17:25:59.667282+00:00</td>\n",
              "      <td>{'duration': 1, 'duration_type': 'months'}</td>\n",
              "    </tr>\n",
              "    <tr>\n",
              "      <th>6726</th>\n",
              "      <td>https://cdn.subspace.money/w_subscriptions/qmT...</td>\n",
              "      <td>2022-11-07</td>\n",
              "      <td>NaN</td>\n",
              "      <td>2022-06-14 08:22:25.590519+00:00</td>\n",
              "      <td>{'duration': 1, 'duration_type': 'months'}</td>\n",
              "    </tr>\n",
              "    <tr>\n",
              "      <th>6727</th>\n",
              "      <td>https://cdn.subspace.money/w_subscriptions/ana...</td>\n",
              "      <td>2023-03-23</td>\n",
              "      <td>2023-03-23</td>\n",
              "      <td>2022-09-24 15:10:06.040926+00:00</td>\n",
              "      <td>{'duration': 6, 'duration_type': 'months'}</td>\n",
              "    </tr>\n",
              "  </tbody>\n",
              "</table>\n",
              "<p>6728 rows × 5 columns</p>\n",
              "</div>\n",
              "      <button class=\"colab-df-convert\" onclick=\"convertToInteractive('df-4f555bfd-bd62-44c0-b008-3743c73b4e0c')\"\n",
              "              title=\"Convert this dataframe to an interactive table.\"\n",
              "              style=\"display:none;\">\n",
              "        \n",
              "  <svg xmlns=\"http://www.w3.org/2000/svg\" height=\"24px\"viewBox=\"0 0 24 24\"\n",
              "       width=\"24px\">\n",
              "    <path d=\"M0 0h24v24H0V0z\" fill=\"none\"/>\n",
              "    <path d=\"M18.56 5.44l.94 2.06.94-2.06 2.06-.94-2.06-.94-.94-2.06-.94 2.06-2.06.94zm-11 1L8.5 8.5l.94-2.06 2.06-.94-2.06-.94L8.5 2.5l-.94 2.06-2.06.94zm10 10l.94 2.06.94-2.06 2.06-.94-2.06-.94-.94-2.06-.94 2.06-2.06.94z\"/><path d=\"M17.41 7.96l-1.37-1.37c-.4-.4-.92-.59-1.43-.59-.52 0-1.04.2-1.43.59L10.3 9.45l-7.72 7.72c-.78.78-.78 2.05 0 2.83L4 21.41c.39.39.9.59 1.41.59.51 0 1.02-.2 1.41-.59l7.78-7.78 2.81-2.81c.8-.78.8-2.07 0-2.86zM5.41 20L4 18.59l7.72-7.72 1.47 1.35L5.41 20z\"/>\n",
              "  </svg>\n",
              "      </button>\n",
              "      \n",
              "  <style>\n",
              "    .colab-df-container {\n",
              "      display:flex;\n",
              "      flex-wrap:wrap;\n",
              "      gap: 12px;\n",
              "    }\n",
              "\n",
              "    .colab-df-convert {\n",
              "      background-color: #E8F0FE;\n",
              "      border: none;\n",
              "      border-radius: 50%;\n",
              "      cursor: pointer;\n",
              "      display: none;\n",
              "      fill: #1967D2;\n",
              "      height: 32px;\n",
              "      padding: 0 0 0 0;\n",
              "      width: 32px;\n",
              "    }\n",
              "\n",
              "    .colab-df-convert:hover {\n",
              "      background-color: #E2EBFA;\n",
              "      box-shadow: 0px 1px 2px rgba(60, 64, 67, 0.3), 0px 1px 3px 1px rgba(60, 64, 67, 0.15);\n",
              "      fill: #174EA6;\n",
              "    }\n",
              "\n",
              "    [theme=dark] .colab-df-convert {\n",
              "      background-color: #3B4455;\n",
              "      fill: #D2E3FC;\n",
              "    }\n",
              "\n",
              "    [theme=dark] .colab-df-convert:hover {\n",
              "      background-color: #434B5C;\n",
              "      box-shadow: 0px 1px 3px 1px rgba(0, 0, 0, 0.15);\n",
              "      filter: drop-shadow(0px 1px 2px rgba(0, 0, 0, 0.3));\n",
              "      fill: #FFFFFF;\n",
              "    }\n",
              "  </style>\n",
              "\n",
              "      <script>\n",
              "        const buttonEl =\n",
              "          document.querySelector('#df-4f555bfd-bd62-44c0-b008-3743c73b4e0c button.colab-df-convert');\n",
              "        buttonEl.style.display =\n",
              "          google.colab.kernel.accessAllowed ? 'block' : 'none';\n",
              "\n",
              "        async function convertToInteractive(key) {\n",
              "          const element = document.querySelector('#df-4f555bfd-bd62-44c0-b008-3743c73b4e0c');\n",
              "          const dataTable =\n",
              "            await google.colab.kernel.invokeFunction('convertToInteractive',\n",
              "                                                     [key], {});\n",
              "          if (!dataTable) return;\n",
              "\n",
              "          const docLinkHtml = 'Like what you see? Visit the ' +\n",
              "            '<a target=\"_blank\" href=https://colab.research.google.com/notebooks/data_table.ipynb>data table notebook</a>'\n",
              "            + ' to learn more about interactive tables.';\n",
              "          element.innerHTML = '';\n",
              "          dataTable['output_type'] = 'display_data';\n",
              "          await google.colab.output.renderOutput(dataTable, element);\n",
              "          const docLink = document.createElement('div');\n",
              "          docLink.innerHTML = docLinkHtml;\n",
              "          element.appendChild(docLink);\n",
              "        }\n",
              "      </script>\n",
              "    </div>\n",
              "  </div>\n",
              "  "
            ]
          },
          "metadata": {},
          "execution_count": 18
        }
      ]
    },
    {
      "cell_type": "markdown",
      "source": [
        "# Saving images in drive folder"
      ],
      "metadata": {
        "id": "WCT3GUGz8Vl1"
      }
    },
    {
      "cell_type": "code",
      "source": [
        "#reads image using given image url and saves it in the specified folder\n",
        "def persist_image(folder_path:str,url:str, counter):\n",
        "    try:\n",
        "        image_content = requests.get(url).content\n",
        "\n",
        "    except Exception as e:\n",
        "        print(f\"ERROR - Could not download {url} - {e}\")\n",
        "\n",
        "    try:\n",
        "        f = open(os.path.join(folder_path, 'jpg' + \"_\" + str(counter) + \".jpg\"), 'wb')\n",
        "        f.write(image_content)\n",
        "        f.close()\n",
        "        print(f\"SUCCESS - saved {url} - as {folder_path}\")\n",
        "    except Exception as e:\n",
        "        print(f\"ERROR - Could not save {url} - {e}\")"
      ],
      "metadata": {
        "id": "Bd4bWD1PCS1N"
      },
      "execution_count": null,
      "outputs": []
    },
    {
      "cell_type": "code",
      "source": [
        "counter=0\n",
        "for i in df1[\"expiry_image\"]:\n",
        "  persist_image('/content/drive/MyDrive/subspace',i,counter)\n",
        "  counter+=1"
      ],
      "metadata": {
        "id": "-Oa4FxEnNAPH"
      },
      "execution_count": null,
      "outputs": []
    },
    {
      "cell_type": "markdown",
      "source": [
        "# Baseline Regex Model"
      ],
      "metadata": {
        "id": "9zA8ubawtoi7"
      }
    },
    {
      "cell_type": "code",
      "source": [
        "#finds all the dates of specified regex patterns\n",
        "def find_date(text):\n",
        "    regex = r\"((19|20)?\\d{1,2}\\s?[-/]\\s?\\d{1,2}\\s?[-/]\\s?(19|20)?\\d{2})|\"\\\n",
        "    r\"((Jan|Feb|Mar|Apr|May|Jun|June|Jul|Aug|Sept|Sep|Oct|Nov|Dec)\"\\\n",
        "    r\"\\s?\\d{1,2}\\s?[,']?\\s?(19|20)?\\d{2})|(\\d{1,2}\\s?[-/]?\\s?\"\\\n",
        "    r\"(Jan|Feb|Mar|Apr|May|Jun|June|Jul|Aug|Sept|Sep|Oct|Nov|Dec)\"\\\n",
        "    r\"\\s?[',-/]?\\s?(19|20)?\\d{1,2})\"\n",
        "    pattern = re.compile(regex, flags=re.IGNORECASE)\n",
        "    matches = list(re.finditer(pattern, text))\n",
        "    if len(matches)==0:\n",
        "        return None\n",
        "    date = matches[0].group(0)\n",
        "    return date"
      ],
      "metadata": {
        "id": "mAPqNQZMceVP"
      },
      "execution_count": null,
      "outputs": []
    },
    {
      "cell_type": "code",
      "source": [
        "#extracting dates from all images in the subspace folder\n",
        "dates=[]\n",
        "def extract_date(path):\n",
        "  try:\n",
        "    text = pytesseract.image_to_string(Image.open(path))\n",
        "    date=find_date(text)\n",
        "    if date is None:\n",
        "      dates.append(np.nan)\n",
        "    else:\n",
        "      dates.append(date.strftime(\"%Y-%m-%d\"))\n",
        "  except:\n",
        "    pass"
      ],
      "metadata": {
        "id": "WXEPyfuQe9Ol"
      },
      "execution_count": null,
      "outputs": []
    },
    {
      "cell_type": "code",
      "source": [
        "for i in range(len(df1.index)):\n",
        "  extract_date(f'/content/drive/MyDrive/subspace/jpg_{i}.jpg')"
      ],
      "metadata": {
        "id": "RYlYXuNjfFbv"
      },
      "execution_count": null,
      "outputs": []
    },
    {
      "cell_type": "code",
      "source": [
        "Dates={'dates':dates}\n",
        "df2=pd.DataFrame(Dates)\n",
        "df2.to_csv('result_dates.csv')"
      ],
      "metadata": {
        "id": "vSkV6klsfGWv"
      },
      "execution_count": null,
      "outputs": []
    },
    {
      "cell_type": "code",
      "execution_count": null,
      "metadata": {
        "colab": {
          "base_uri": "https://localhost:8080/",
          "height": 424
        },
        "id": "h4I9mcisnUv1",
        "outputId": "13071966-2d80-4640-9665-cd715b2ad94f"
      },
      "outputs": [
        {
          "output_type": "execute_result",
          "data": {
            "text/plain": [
              "           Dates\n",
              "0     2023-05-13\n",
              "1     2022-03-29\n",
              "2            NaN\n",
              "3     2022-08-22\n",
              "4            NaN\n",
              "...          ...\n",
              "6722  2023-10-07\n",
              "6723         NaN\n",
              "6724         NaN\n",
              "6725         NaN\n",
              "6726  2023-03-23\n",
              "\n",
              "[6727 rows x 1 columns]"
            ],
            "text/html": [
              "\n",
              "  <div id=\"df-719cce26-5381-40c5-bfea-0ff3d1446222\">\n",
              "    <div class=\"colab-df-container\">\n",
              "      <div>\n",
              "<style scoped>\n",
              "    .dataframe tbody tr th:only-of-type {\n",
              "        vertical-align: middle;\n",
              "    }\n",
              "\n",
              "    .dataframe tbody tr th {\n",
              "        vertical-align: top;\n",
              "    }\n",
              "\n",
              "    .dataframe thead th {\n",
              "        text-align: right;\n",
              "    }\n",
              "</style>\n",
              "<table border=\"1\" class=\"dataframe\">\n",
              "  <thead>\n",
              "    <tr style=\"text-align: right;\">\n",
              "      <th></th>\n",
              "      <th>Dates</th>\n",
              "    </tr>\n",
              "  </thead>\n",
              "  <tbody>\n",
              "    <tr>\n",
              "      <th>0</th>\n",
              "      <td>2023-05-13</td>\n",
              "    </tr>\n",
              "    <tr>\n",
              "      <th>1</th>\n",
              "      <td>2022-03-29</td>\n",
              "    </tr>\n",
              "    <tr>\n",
              "      <th>2</th>\n",
              "      <td>NaN</td>\n",
              "    </tr>\n",
              "    <tr>\n",
              "      <th>3</th>\n",
              "      <td>2022-08-22</td>\n",
              "    </tr>\n",
              "    <tr>\n",
              "      <th>4</th>\n",
              "      <td>NaN</td>\n",
              "    </tr>\n",
              "    <tr>\n",
              "      <th>...</th>\n",
              "      <td>...</td>\n",
              "    </tr>\n",
              "    <tr>\n",
              "      <th>6722</th>\n",
              "      <td>2023-10-07</td>\n",
              "    </tr>\n",
              "    <tr>\n",
              "      <th>6723</th>\n",
              "      <td>NaN</td>\n",
              "    </tr>\n",
              "    <tr>\n",
              "      <th>6724</th>\n",
              "      <td>NaN</td>\n",
              "    </tr>\n",
              "    <tr>\n",
              "      <th>6725</th>\n",
              "      <td>NaN</td>\n",
              "    </tr>\n",
              "    <tr>\n",
              "      <th>6726</th>\n",
              "      <td>2023-03-23</td>\n",
              "    </tr>\n",
              "  </tbody>\n",
              "</table>\n",
              "<p>6727 rows × 1 columns</p>\n",
              "</div>\n",
              "      <button class=\"colab-df-convert\" onclick=\"convertToInteractive('df-719cce26-5381-40c5-bfea-0ff3d1446222')\"\n",
              "              title=\"Convert this dataframe to an interactive table.\"\n",
              "              style=\"display:none;\">\n",
              "        \n",
              "  <svg xmlns=\"http://www.w3.org/2000/svg\" height=\"24px\"viewBox=\"0 0 24 24\"\n",
              "       width=\"24px\">\n",
              "    <path d=\"M0 0h24v24H0V0z\" fill=\"none\"/>\n",
              "    <path d=\"M18.56 5.44l.94 2.06.94-2.06 2.06-.94-2.06-.94-.94-2.06-.94 2.06-2.06.94zm-11 1L8.5 8.5l.94-2.06 2.06-.94-2.06-.94L8.5 2.5l-.94 2.06-2.06.94zm10 10l.94 2.06.94-2.06 2.06-.94-2.06-.94-.94-2.06-.94 2.06-2.06.94z\"/><path d=\"M17.41 7.96l-1.37-1.37c-.4-.4-.92-.59-1.43-.59-.52 0-1.04.2-1.43.59L10.3 9.45l-7.72 7.72c-.78.78-.78 2.05 0 2.83L4 21.41c.39.39.9.59 1.41.59.51 0 1.02-.2 1.41-.59l7.78-7.78 2.81-2.81c.8-.78.8-2.07 0-2.86zM5.41 20L4 18.59l7.72-7.72 1.47 1.35L5.41 20z\"/>\n",
              "  </svg>\n",
              "      </button>\n",
              "      \n",
              "  <style>\n",
              "    .colab-df-container {\n",
              "      display:flex;\n",
              "      flex-wrap:wrap;\n",
              "      gap: 12px;\n",
              "    }\n",
              "\n",
              "    .colab-df-convert {\n",
              "      background-color: #E8F0FE;\n",
              "      border: none;\n",
              "      border-radius: 50%;\n",
              "      cursor: pointer;\n",
              "      display: none;\n",
              "      fill: #1967D2;\n",
              "      height: 32px;\n",
              "      padding: 0 0 0 0;\n",
              "      width: 32px;\n",
              "    }\n",
              "\n",
              "    .colab-df-convert:hover {\n",
              "      background-color: #E2EBFA;\n",
              "      box-shadow: 0px 1px 2px rgba(60, 64, 67, 0.3), 0px 1px 3px 1px rgba(60, 64, 67, 0.15);\n",
              "      fill: #174EA6;\n",
              "    }\n",
              "\n",
              "    [theme=dark] .colab-df-convert {\n",
              "      background-color: #3B4455;\n",
              "      fill: #D2E3FC;\n",
              "    }\n",
              "\n",
              "    [theme=dark] .colab-df-convert:hover {\n",
              "      background-color: #434B5C;\n",
              "      box-shadow: 0px 1px 3px 1px rgba(0, 0, 0, 0.15);\n",
              "      filter: drop-shadow(0px 1px 2px rgba(0, 0, 0, 0.3));\n",
              "      fill: #FFFFFF;\n",
              "    }\n",
              "  </style>\n",
              "\n",
              "      <script>\n",
              "        const buttonEl =\n",
              "          document.querySelector('#df-719cce26-5381-40c5-bfea-0ff3d1446222 button.colab-df-convert');\n",
              "        buttonEl.style.display =\n",
              "          google.colab.kernel.accessAllowed ? 'block' : 'none';\n",
              "\n",
              "        async function convertToInteractive(key) {\n",
              "          const element = document.querySelector('#df-719cce26-5381-40c5-bfea-0ff3d1446222');\n",
              "          const dataTable =\n",
              "            await google.colab.kernel.invokeFunction('convertToInteractive',\n",
              "                                                     [key], {});\n",
              "          if (!dataTable) return;\n",
              "\n",
              "          const docLinkHtml = 'Like what you see? Visit the ' +\n",
              "            '<a target=\"_blank\" href=https://colab.research.google.com/notebooks/data_table.ipynb>data table notebook</a>'\n",
              "            + ' to learn more about interactive tables.';\n",
              "          element.innerHTML = '';\n",
              "          dataTable['output_type'] = 'display_data';\n",
              "          await google.colab.output.renderOutput(dataTable, element);\n",
              "          const docLink = document.createElement('div');\n",
              "          docLink.innerHTML = docLinkHtml;\n",
              "          element.appendChild(docLink);\n",
              "        }\n",
              "      </script>\n",
              "    </div>\n",
              "  </div>\n",
              "  "
            ]
          },
          "metadata": {},
          "execution_count": 16
        }
      ],
      "source": [
        "df2=pd.read_csv('result_dates.csv')\n",
        "df2.drop('Unnamed: 0',axis=1,inplace=True)\n",
        "df2.rename(columns={'0':'Dates'},inplace=True)\n",
        "df2"
      ]
    },
    {
      "cell_type": "code",
      "source": [
        "df=pd.concat([df1,df2],axis=1)\n",
        "df"
      ],
      "metadata": {
        "id": "kHVhjSDsi7BT",
        "colab": {
          "base_uri": "https://localhost:8080/",
          "height": 424
        },
        "outputId": "cd81d2c3-0f75-4cf2-fe0c-ce9a08a93783"
      },
      "execution_count": null,
      "outputs": [
        {
          "output_type": "execute_result",
          "data": {
            "text/plain": [
              "                                           expiry_image expiring_at  \\\n",
              "0     https://cdn.subspace.money/w_subscriptions/Xk5...  2023-05-13   \n",
              "1     https://cdn.subspace.money/w_subscriptions/PKV...  2023-03-29   \n",
              "2     https://cdn.subspace.money/w_subscriptions/80E...  2022-12-27   \n",
              "3     https://cdn.subspace.money/w_subscriptions/JIX...  2022-10-22   \n",
              "4     https://cdn.subspace.money/w_subscriptions/p4r...  2022-07-12   \n",
              "...                                                 ...         ...   \n",
              "6723  https://cdn.subspace.money/w_subscriptions/OYl...  2023-10-07   \n",
              "6724  https://cdn.subspace.money/w_subscriptions/5av...  2022-11-07   \n",
              "6725  https://cdn.subspace.money/w_subscriptions/X4e...  2022-12-31   \n",
              "6726  https://cdn.subspace.money/w_subscriptions/qmT...  2022-11-07   \n",
              "6727  https://cdn.subspace.money/w_subscriptions/ana...  2023-03-23   \n",
              "\n",
              "     expiring_at_from_model                        created_at  \\\n",
              "0                2023-05-13  2022-05-15 04:27:17.955815+00:00   \n",
              "1                       NaN  2022-06-10 11:28:46.053421+00:00   \n",
              "2                2022-12-27  2022-07-21 16:30:53.316893+00:00   \n",
              "3                2022-08-22  2022-07-22 15:02:53.685566+00:00   \n",
              "4                       NaN  2022-06-12 05:16:00.847964+00:00   \n",
              "...                     ...                               ...   \n",
              "6723             2023-10-07  2022-10-07 16:03:36.596915+00:00   \n",
              "6724                    NaN  2022-10-07 16:06:06.037587+00:00   \n",
              "6725                    NaN  2022-10-07 17:25:59.667282+00:00   \n",
              "6726                    NaN  2022-06-14 08:22:25.590519+00:00   \n",
              "6727             2023-03-23  2022-09-24 15:10:06.040926+00:00   \n",
              "\n",
              "                                     whatsub_plan       Dates  \n",
              "0      {'duration': 3, 'duration_type': 'months'}  2023-05-13  \n",
              "1       {'duration': 1, 'duration_type': 'years'}  2022-03-29  \n",
              "2      {'duration': 1, 'duration_type': 'months'}         NaN  \n",
              "3      {'duration': 1, 'duration_type': 'months'}  2022-08-22  \n",
              "4      {'duration': 1, 'duration_type': 'months'}         NaN  \n",
              "...                                           ...         ...  \n",
              "6723  {'duration': 12, 'duration_type': 'months'}         NaN  \n",
              "6724   {'duration': 1, 'duration_type': 'months'}         NaN  \n",
              "6725   {'duration': 1, 'duration_type': 'months'}         NaN  \n",
              "6726   {'duration': 1, 'duration_type': 'months'}  2023-03-23  \n",
              "6727   {'duration': 6, 'duration_type': 'months'}         NaN  \n",
              "\n",
              "[6728 rows x 6 columns]"
            ],
            "text/html": [
              "\n",
              "  <div id=\"df-1b2b66e9-c2a0-4110-8e3c-645d204db6d1\">\n",
              "    <div class=\"colab-df-container\">\n",
              "      <div>\n",
              "<style scoped>\n",
              "    .dataframe tbody tr th:only-of-type {\n",
              "        vertical-align: middle;\n",
              "    }\n",
              "\n",
              "    .dataframe tbody tr th {\n",
              "        vertical-align: top;\n",
              "    }\n",
              "\n",
              "    .dataframe thead th {\n",
              "        text-align: right;\n",
              "    }\n",
              "</style>\n",
              "<table border=\"1\" class=\"dataframe\">\n",
              "  <thead>\n",
              "    <tr style=\"text-align: right;\">\n",
              "      <th></th>\n",
              "      <th>expiry_image</th>\n",
              "      <th>expiring_at</th>\n",
              "      <th>expiring_at_from_model</th>\n",
              "      <th>created_at</th>\n",
              "      <th>whatsub_plan</th>\n",
              "      <th>Dates</th>\n",
              "    </tr>\n",
              "  </thead>\n",
              "  <tbody>\n",
              "    <tr>\n",
              "      <th>0</th>\n",
              "      <td>https://cdn.subspace.money/w_subscriptions/Xk5...</td>\n",
              "      <td>2023-05-13</td>\n",
              "      <td>2023-05-13</td>\n",
              "      <td>2022-05-15 04:27:17.955815+00:00</td>\n",
              "      <td>{'duration': 3, 'duration_type': 'months'}</td>\n",
              "      <td>2023-05-13</td>\n",
              "    </tr>\n",
              "    <tr>\n",
              "      <th>1</th>\n",
              "      <td>https://cdn.subspace.money/w_subscriptions/PKV...</td>\n",
              "      <td>2023-03-29</td>\n",
              "      <td>NaN</td>\n",
              "      <td>2022-06-10 11:28:46.053421+00:00</td>\n",
              "      <td>{'duration': 1, 'duration_type': 'years'}</td>\n",
              "      <td>2022-03-29</td>\n",
              "    </tr>\n",
              "    <tr>\n",
              "      <th>2</th>\n",
              "      <td>https://cdn.subspace.money/w_subscriptions/80E...</td>\n",
              "      <td>2022-12-27</td>\n",
              "      <td>2022-12-27</td>\n",
              "      <td>2022-07-21 16:30:53.316893+00:00</td>\n",
              "      <td>{'duration': 1, 'duration_type': 'months'}</td>\n",
              "      <td>NaN</td>\n",
              "    </tr>\n",
              "    <tr>\n",
              "      <th>3</th>\n",
              "      <td>https://cdn.subspace.money/w_subscriptions/JIX...</td>\n",
              "      <td>2022-10-22</td>\n",
              "      <td>2022-08-22</td>\n",
              "      <td>2022-07-22 15:02:53.685566+00:00</td>\n",
              "      <td>{'duration': 1, 'duration_type': 'months'}</td>\n",
              "      <td>2022-08-22</td>\n",
              "    </tr>\n",
              "    <tr>\n",
              "      <th>4</th>\n",
              "      <td>https://cdn.subspace.money/w_subscriptions/p4r...</td>\n",
              "      <td>2022-07-12</td>\n",
              "      <td>NaN</td>\n",
              "      <td>2022-06-12 05:16:00.847964+00:00</td>\n",
              "      <td>{'duration': 1, 'duration_type': 'months'}</td>\n",
              "      <td>NaN</td>\n",
              "    </tr>\n",
              "    <tr>\n",
              "      <th>...</th>\n",
              "      <td>...</td>\n",
              "      <td>...</td>\n",
              "      <td>...</td>\n",
              "      <td>...</td>\n",
              "      <td>...</td>\n",
              "      <td>...</td>\n",
              "    </tr>\n",
              "    <tr>\n",
              "      <th>6723</th>\n",
              "      <td>https://cdn.subspace.money/w_subscriptions/OYl...</td>\n",
              "      <td>2023-10-07</td>\n",
              "      <td>2023-10-07</td>\n",
              "      <td>2022-10-07 16:03:36.596915+00:00</td>\n",
              "      <td>{'duration': 12, 'duration_type': 'months'}</td>\n",
              "      <td>NaN</td>\n",
              "    </tr>\n",
              "    <tr>\n",
              "      <th>6724</th>\n",
              "      <td>https://cdn.subspace.money/w_subscriptions/5av...</td>\n",
              "      <td>2022-11-07</td>\n",
              "      <td>NaN</td>\n",
              "      <td>2022-10-07 16:06:06.037587+00:00</td>\n",
              "      <td>{'duration': 1, 'duration_type': 'months'}</td>\n",
              "      <td>NaN</td>\n",
              "    </tr>\n",
              "    <tr>\n",
              "      <th>6725</th>\n",
              "      <td>https://cdn.subspace.money/w_subscriptions/X4e...</td>\n",
              "      <td>2022-12-31</td>\n",
              "      <td>NaN</td>\n",
              "      <td>2022-10-07 17:25:59.667282+00:00</td>\n",
              "      <td>{'duration': 1, 'duration_type': 'months'}</td>\n",
              "      <td>NaN</td>\n",
              "    </tr>\n",
              "    <tr>\n",
              "      <th>6726</th>\n",
              "      <td>https://cdn.subspace.money/w_subscriptions/qmT...</td>\n",
              "      <td>2022-11-07</td>\n",
              "      <td>NaN</td>\n",
              "      <td>2022-06-14 08:22:25.590519+00:00</td>\n",
              "      <td>{'duration': 1, 'duration_type': 'months'}</td>\n",
              "      <td>2023-03-23</td>\n",
              "    </tr>\n",
              "    <tr>\n",
              "      <th>6727</th>\n",
              "      <td>https://cdn.subspace.money/w_subscriptions/ana...</td>\n",
              "      <td>2023-03-23</td>\n",
              "      <td>2023-03-23</td>\n",
              "      <td>2022-09-24 15:10:06.040926+00:00</td>\n",
              "      <td>{'duration': 6, 'duration_type': 'months'}</td>\n",
              "      <td>NaN</td>\n",
              "    </tr>\n",
              "  </tbody>\n",
              "</table>\n",
              "<p>6728 rows × 6 columns</p>\n",
              "</div>\n",
              "      <button class=\"colab-df-convert\" onclick=\"convertToInteractive('df-1b2b66e9-c2a0-4110-8e3c-645d204db6d1')\"\n",
              "              title=\"Convert this dataframe to an interactive table.\"\n",
              "              style=\"display:none;\">\n",
              "        \n",
              "  <svg xmlns=\"http://www.w3.org/2000/svg\" height=\"24px\"viewBox=\"0 0 24 24\"\n",
              "       width=\"24px\">\n",
              "    <path d=\"M0 0h24v24H0V0z\" fill=\"none\"/>\n",
              "    <path d=\"M18.56 5.44l.94 2.06.94-2.06 2.06-.94-2.06-.94-.94-2.06-.94 2.06-2.06.94zm-11 1L8.5 8.5l.94-2.06 2.06-.94-2.06-.94L8.5 2.5l-.94 2.06-2.06.94zm10 10l.94 2.06.94-2.06 2.06-.94-2.06-.94-.94-2.06-.94 2.06-2.06.94z\"/><path d=\"M17.41 7.96l-1.37-1.37c-.4-.4-.92-.59-1.43-.59-.52 0-1.04.2-1.43.59L10.3 9.45l-7.72 7.72c-.78.78-.78 2.05 0 2.83L4 21.41c.39.39.9.59 1.41.59.51 0 1.02-.2 1.41-.59l7.78-7.78 2.81-2.81c.8-.78.8-2.07 0-2.86zM5.41 20L4 18.59l7.72-7.72 1.47 1.35L5.41 20z\"/>\n",
              "  </svg>\n",
              "      </button>\n",
              "      \n",
              "  <style>\n",
              "    .colab-df-container {\n",
              "      display:flex;\n",
              "      flex-wrap:wrap;\n",
              "      gap: 12px;\n",
              "    }\n",
              "\n",
              "    .colab-df-convert {\n",
              "      background-color: #E8F0FE;\n",
              "      border: none;\n",
              "      border-radius: 50%;\n",
              "      cursor: pointer;\n",
              "      display: none;\n",
              "      fill: #1967D2;\n",
              "      height: 32px;\n",
              "      padding: 0 0 0 0;\n",
              "      width: 32px;\n",
              "    }\n",
              "\n",
              "    .colab-df-convert:hover {\n",
              "      background-color: #E2EBFA;\n",
              "      box-shadow: 0px 1px 2px rgba(60, 64, 67, 0.3), 0px 1px 3px 1px rgba(60, 64, 67, 0.15);\n",
              "      fill: #174EA6;\n",
              "    }\n",
              "\n",
              "    [theme=dark] .colab-df-convert {\n",
              "      background-color: #3B4455;\n",
              "      fill: #D2E3FC;\n",
              "    }\n",
              "\n",
              "    [theme=dark] .colab-df-convert:hover {\n",
              "      background-color: #434B5C;\n",
              "      box-shadow: 0px 1px 3px 1px rgba(0, 0, 0, 0.15);\n",
              "      filter: drop-shadow(0px 1px 2px rgba(0, 0, 0, 0.3));\n",
              "      fill: #FFFFFF;\n",
              "    }\n",
              "  </style>\n",
              "\n",
              "      <script>\n",
              "        const buttonEl =\n",
              "          document.querySelector('#df-1b2b66e9-c2a0-4110-8e3c-645d204db6d1 button.colab-df-convert');\n",
              "        buttonEl.style.display =\n",
              "          google.colab.kernel.accessAllowed ? 'block' : 'none';\n",
              "\n",
              "        async function convertToInteractive(key) {\n",
              "          const element = document.querySelector('#df-1b2b66e9-c2a0-4110-8e3c-645d204db6d1');\n",
              "          const dataTable =\n",
              "            await google.colab.kernel.invokeFunction('convertToInteractive',\n",
              "                                                     [key], {});\n",
              "          if (!dataTable) return;\n",
              "\n",
              "          const docLinkHtml = 'Like what you see? Visit the ' +\n",
              "            '<a target=\"_blank\" href=https://colab.research.google.com/notebooks/data_table.ipynb>data table notebook</a>'\n",
              "            + ' to learn more about interactive tables.';\n",
              "          element.innerHTML = '';\n",
              "          dataTable['output_type'] = 'display_data';\n",
              "          await google.colab.output.renderOutput(dataTable, element);\n",
              "          const docLink = document.createElement('div');\n",
              "          docLink.innerHTML = docLinkHtml;\n",
              "          element.appendChild(docLink);\n",
              "        }\n",
              "      </script>\n",
              "    </div>\n",
              "  </div>\n",
              "  "
            ]
          },
          "metadata": {},
          "execution_count": 81
        }
      ]
    },
    {
      "cell_type": "code",
      "source": [
        "No_of_null_values=df['Dates'].isnull().sum()\n",
        "Total_dates=len(df.index)\n",
        "Basic_Success_Rate=(1-(No_of_null_values/Total_dates))*100\n",
        "Basic_Success_Rate"
      ],
      "metadata": {
        "colab": {
          "base_uri": "https://localhost:8080/"
        },
        "id": "8P--Y7ACIIjh",
        "outputId": "7f74370e-571d-4186-d100-d97a8ab4046a"
      },
      "execution_count": null,
      "outputs": [
        {
          "output_type": "execute_result",
          "data": {
            "text/plain": [
              "49.68787158145065"
            ]
          },
          "metadata": {},
          "execution_count": 74
        }
      ]
    },
    {
      "cell_type": "markdown",
      "source": [
        "**As you can see this success rate is extremely low .So we will do some optimizations to increase our success rate**"
      ],
      "metadata": {
        "id": "LtYr0WjsI0tn"
      }
    },
    {
      "cell_type": "markdown",
      "source": [
        "# Image Processing"
      ],
      "metadata": {
        "id": "4vTPxkeB_Efk"
      }
    },
    {
      "cell_type": "code",
      "source": [
        "def image_smoothening(img):\n",
        "  # thresholding with less noise \n",
        "  ret1, th1 = cv2.threshold(img, 150, 255, cv2.THRESH_BINARY)\n",
        "  blur = cv2.GaussianBlur(th1, (5, 5), 0)\n",
        "  ret2, th2 = cv2.threshold(th1, 0, 255, cv2.THRESH_BINARY)\n",
        "  return th2\n",
        "\n",
        "def image_process(path):\n",
        "  img=cv2.imread(path)\n",
        "  gray=cv2.cvtColor(img,cv2.COLOR_BGR2GRAY)\n",
        "  ret,thresh1 = cv2.threshold(gray,170, 255, cv2.THRESH_BINARY)\n",
        "  kernel = np.ones((1, 1), np.uint8)\n",
        "  thresh = cv2.morphologyEx(thresh1, cv2.MORPH_CLOSE, kernel)\n",
        "  thresh = cv2.morphologyEx(thresh1, cv2.MORPH_OPEN, kernel)\n",
        "  smooth_img = image_smoothening(gray)\n",
        "  final_img = cv2.bitwise_or(smooth_img, thresh)\n",
        "  return final_img"
      ],
      "metadata": {
        "id": "4zqnRUcKkdri"
      },
      "execution_count": null,
      "outputs": []
    },
    {
      "cell_type": "markdown",
      "source": [
        "# Useless Images Detection"
      ],
      "metadata": {
        "id": "dRjEZ4N5_KJo"
      }
    },
    {
      "cell_type": "code",
      "source": [
        "import cv2\n",
        "face_cascade = cv2.CascadeClassifier('haarcascade_frontalface_default.xml')\n",
        "eye_cascade = cv2.CascadeClassifier('haarcascade_eye.xml')\n",
        "def face_detector(img):\n",
        "   gray = cv2.cvtColor(img, cv2.COLOR_BGR2GRAY)\n",
        "    # Detect the faces  \n",
        "   faces = face_cascade.detectMultiScale(gray, 1.1, 4)\n",
        "   eyes = eye_cascade.detectMultiScale(gray,1.1,4)\n",
        "   if type(faces) is tuple or type(eyes) is tuple:\n",
        "     return True\n",
        "   else:\n",
        "     return False"
      ],
      "metadata": {
        "id": "7baOlPz5v3sr"
      },
      "execution_count": null,
      "outputs": []
    },
    {
      "cell_type": "markdown",
      "source": [
        "# Text Processing"
      ],
      "metadata": {
        "id": "jwwbcSMvun7z"
      }
    },
    {
      "cell_type": "code",
      "source": [
        "#Removing Punctuations from text strings\n",
        "def text_process(test_str):\n",
        "  test_str = test_str.translate(str.maketrans('', '', string.punctuation))\n",
        "  return test_str"
      ],
      "metadata": {
        "id": "oxNlsXZObw9U"
      },
      "execution_count": null,
      "outputs": []
    },
    {
      "cell_type": "markdown",
      "source": [
        "# Model Building"
      ],
      "metadata": {
        "id": "BRI-DvAQu0zp"
      }
    },
    {
      "cell_type": "code",
      "source": [
        "!pip install date_detector\n",
        "from date_detector import Parser\n",
        "parser=Parser()"
      ],
      "metadata": {
        "id": "pfJBShcRyyjL"
      },
      "execution_count": null,
      "outputs": []
    },
    {
      "cell_type": "code",
      "source": [
        "data=[]\n",
        "cnts=0\n",
        "from PIL import Image\n",
        "for i in range(len(df.index)):\n",
        "  img=cv2.imread(f'/content/drive/MyDrive/subspace/jpg_{i}.jpg')\n",
        "  if face_detector(img) is False:\n",
        "    cnts+=1\n",
        "    pass\n",
        "  else:\n",
        "    l=[]\n",
        "    try:\n",
        "      text=pytesseract.image_to_string(Image.open(f'/content/drive/MyDrive/subspace/jpg_{i}.jpg'))\n",
        "      text=text_process(text)\n",
        "      date=find_date(text)\n",
        "      for match in parser.parse(text):\n",
        "        l.append(match.date.strftime(\"%d/%m/%Y\"))\n",
        "      if len(l)==0:\n",
        "        if date is not None:\n",
        "          data.append(date)\n",
        "        else:\n",
        "          img=image_process(f'/content/drive/MyDrive/subspace/jpg_{i}.jpg')\n",
        "          text=pytesseract.image_to_string(img)\n",
        "          text=text_process(text)\n",
        "          m=[]\n",
        "          for match in parser.parse(text):\n",
        "               m.append(match.date.strftime(\"%d/%m/%Y\"))\n",
        "          if len(m)!=0:\n",
        "             data.append(m[0])\n",
        "          else:\n",
        "             data.append(None)\n",
        "      else:\n",
        "         data.append(l[0])\n",
        "      print(f'The date from {i}th image is extracted')\n",
        "    except:\n",
        "       pass"
      ],
      "metadata": {
        "id": "jC94A53Nw1zr"
      },
      "execution_count": null,
      "outputs": []
    },
    {
      "cell_type": "code",
      "source": [
        "#Removing useless images from the dataset\n",
        "for i in range(len(df1.index)):\n",
        "   img=cv2.imread(f'/content/drive/MyDrive/subspace/jpg_{i}.jpg')\n",
        "   if face_detector(img) is False:\n",
        "     df1.drop(i,axis=0,inplace=True)"
      ],
      "metadata": {
        "id": "cSfW4wWbM_Qn"
      },
      "execution_count": null,
      "outputs": []
    },
    {
      "cell_type": "code",
      "source": [
        "df1.to_csv('New_dataset.csv')"
      ],
      "metadata": {
        "id": "jwdkAiWwv6_H"
      },
      "execution_count": null,
      "outputs": []
    },
    {
      "cell_type": "markdown",
      "source": [
        "# Conclusion"
      ],
      "metadata": {
        "id": "Zk3RoipTxPAe"
      }
    },
    {
      "cell_type": "code",
      "source": [
        "Total_images=len(df.index)\n",
        "No_of_useless_images=cnt\n",
        "No_of_useful_images=len(df.index)-No_of_useless_images\n",
        "print(f'The number of useless images is :{No_of_useless_images}')\n",
        "print(f'The percentage of useless images is:{(No_of_useless_images/Total_images)*100}%')\n",
        "print(f'The number of useful images is :{No_of_useful_images}')\n",
        "print(f'The percentage of useful images is:{(No_of_useful_images/Total_images)*100}%')"
      ],
      "metadata": {
        "colab": {
          "base_uri": "https://localhost:8080/"
        },
        "id": "41O3v9K24Lzg",
        "outputId": "30056efa-6f4f-4281-c9b4-d7a63aabf9d1"
      },
      "execution_count": null,
      "outputs": [
        {
          "output_type": "stream",
          "name": "stdout",
          "text": [
            "The number of useless images is :705\n",
            "The percentage of useless images is:10.47859690844233%\n",
            "The number of useful images is :6023\n",
            "The percentage of useful images is:89.52140309155767%\n"
          ]
        }
      ]
    },
    {
      "cell_type": "code",
      "source": [
        "Data={'Dates':data}\n",
        "Df=pd.DataFrame(Data)\n",
        "Df.to_csv('Final_dates.csv')"
      ],
      "metadata": {
        "id": "232s7GDzj9B_"
      },
      "execution_count": null,
      "outputs": []
    },
    {
      "cell_type": "code",
      "source": [
        "Null_values=data.count(None)\n",
        "All_dates=No_of_useful_images\n",
        "Success_rate=(1-(Null_values/All_dates))*100\n",
        "Success_rate"
      ],
      "metadata": {
        "colab": {
          "base_uri": "https://localhost:8080/"
        },
        "id": "4qFp1qT3Hqn7",
        "outputId": "ea6c5819-bd4d-4e65-dd1b-faf404e19292"
      },
      "execution_count": null,
      "outputs": [
        {
          "output_type": "execute_result",
          "data": {
            "text/plain": [
              "71.875"
            ]
          },
          "metadata": {},
          "execution_count": 76
        }
      ]
    },
    {
      "cell_type": "code",
      "source": [
        "Df"
      ],
      "metadata": {
        "colab": {
          "base_uri": "https://localhost:8080/",
          "height": 424
        },
        "id": "luytHLEyuchR",
        "outputId": "00359ddd-a656-493f-8152-528ae8f3085e"
      },
      "execution_count": null,
      "outputs": [
        {
          "output_type": "execute_result",
          "data": {
            "text/plain": [
              "           Dates\n",
              "0     29/03/2022\n",
              "1     27/12/2022\n",
              "2     22/08/2022\n",
              "3           None\n",
              "4     22/08/2022\n",
              "...          ...\n",
              "6017  17/09/2022\n",
              "6018        None\n",
              "6019  07/10/2023\n",
              "6020        None\n",
              "6021  07/07/2022\n",
              "\n",
              "[6022 rows x 1 columns]"
            ],
            "text/html": [
              "\n",
              "  <div id=\"df-0aaa2658-3eee-4c20-9dba-1dd463673483\">\n",
              "    <div class=\"colab-df-container\">\n",
              "      <div>\n",
              "<style scoped>\n",
              "    .dataframe tbody tr th:only-of-type {\n",
              "        vertical-align: middle;\n",
              "    }\n",
              "\n",
              "    .dataframe tbody tr th {\n",
              "        vertical-align: top;\n",
              "    }\n",
              "\n",
              "    .dataframe thead th {\n",
              "        text-align: right;\n",
              "    }\n",
              "</style>\n",
              "<table border=\"1\" class=\"dataframe\">\n",
              "  <thead>\n",
              "    <tr style=\"text-align: right;\">\n",
              "      <th></th>\n",
              "      <th>Dates</th>\n",
              "    </tr>\n",
              "  </thead>\n",
              "  <tbody>\n",
              "    <tr>\n",
              "      <th>0</th>\n",
              "      <td>29/03/2022</td>\n",
              "    </tr>\n",
              "    <tr>\n",
              "      <th>1</th>\n",
              "      <td>27/12/2022</td>\n",
              "    </tr>\n",
              "    <tr>\n",
              "      <th>2</th>\n",
              "      <td>22/08/2022</td>\n",
              "    </tr>\n",
              "    <tr>\n",
              "      <th>3</th>\n",
              "      <td>None</td>\n",
              "    </tr>\n",
              "    <tr>\n",
              "      <th>4</th>\n",
              "      <td>22/08/2022</td>\n",
              "    </tr>\n",
              "    <tr>\n",
              "      <th>...</th>\n",
              "      <td>...</td>\n",
              "    </tr>\n",
              "    <tr>\n",
              "      <th>6017</th>\n",
              "      <td>17/09/2022</td>\n",
              "    </tr>\n",
              "    <tr>\n",
              "      <th>6018</th>\n",
              "      <td>None</td>\n",
              "    </tr>\n",
              "    <tr>\n",
              "      <th>6019</th>\n",
              "      <td>07/10/2023</td>\n",
              "    </tr>\n",
              "    <tr>\n",
              "      <th>6020</th>\n",
              "      <td>None</td>\n",
              "    </tr>\n",
              "    <tr>\n",
              "      <th>6021</th>\n",
              "      <td>07/07/2022</td>\n",
              "    </tr>\n",
              "  </tbody>\n",
              "</table>\n",
              "<p>6022 rows × 1 columns</p>\n",
              "</div>\n",
              "      <button class=\"colab-df-convert\" onclick=\"convertToInteractive('df-0aaa2658-3eee-4c20-9dba-1dd463673483')\"\n",
              "              title=\"Convert this dataframe to an interactive table.\"\n",
              "              style=\"display:none;\">\n",
              "        \n",
              "  <svg xmlns=\"http://www.w3.org/2000/svg\" height=\"24px\"viewBox=\"0 0 24 24\"\n",
              "       width=\"24px\">\n",
              "    <path d=\"M0 0h24v24H0V0z\" fill=\"none\"/>\n",
              "    <path d=\"M18.56 5.44l.94 2.06.94-2.06 2.06-.94-2.06-.94-.94-2.06-.94 2.06-2.06.94zm-11 1L8.5 8.5l.94-2.06 2.06-.94-2.06-.94L8.5 2.5l-.94 2.06-2.06.94zm10 10l.94 2.06.94-2.06 2.06-.94-2.06-.94-.94-2.06-.94 2.06-2.06.94z\"/><path d=\"M17.41 7.96l-1.37-1.37c-.4-.4-.92-.59-1.43-.59-.52 0-1.04.2-1.43.59L10.3 9.45l-7.72 7.72c-.78.78-.78 2.05 0 2.83L4 21.41c.39.39.9.59 1.41.59.51 0 1.02-.2 1.41-.59l7.78-7.78 2.81-2.81c.8-.78.8-2.07 0-2.86zM5.41 20L4 18.59l7.72-7.72 1.47 1.35L5.41 20z\"/>\n",
              "  </svg>\n",
              "      </button>\n",
              "      \n",
              "  <style>\n",
              "    .colab-df-container {\n",
              "      display:flex;\n",
              "      flex-wrap:wrap;\n",
              "      gap: 12px;\n",
              "    }\n",
              "\n",
              "    .colab-df-convert {\n",
              "      background-color: #E8F0FE;\n",
              "      border: none;\n",
              "      border-radius: 50%;\n",
              "      cursor: pointer;\n",
              "      display: none;\n",
              "      fill: #1967D2;\n",
              "      height: 32px;\n",
              "      padding: 0 0 0 0;\n",
              "      width: 32px;\n",
              "    }\n",
              "\n",
              "    .colab-df-convert:hover {\n",
              "      background-color: #E2EBFA;\n",
              "      box-shadow: 0px 1px 2px rgba(60, 64, 67, 0.3), 0px 1px 3px 1px rgba(60, 64, 67, 0.15);\n",
              "      fill: #174EA6;\n",
              "    }\n",
              "\n",
              "    [theme=dark] .colab-df-convert {\n",
              "      background-color: #3B4455;\n",
              "      fill: #D2E3FC;\n",
              "    }\n",
              "\n",
              "    [theme=dark] .colab-df-convert:hover {\n",
              "      background-color: #434B5C;\n",
              "      box-shadow: 0px 1px 3px 1px rgba(0, 0, 0, 0.15);\n",
              "      filter: drop-shadow(0px 1px 2px rgba(0, 0, 0, 0.3));\n",
              "      fill: #FFFFFF;\n",
              "    }\n",
              "  </style>\n",
              "\n",
              "      <script>\n",
              "        const buttonEl =\n",
              "          document.querySelector('#df-0aaa2658-3eee-4c20-9dba-1dd463673483 button.colab-df-convert');\n",
              "        buttonEl.style.display =\n",
              "          google.colab.kernel.accessAllowed ? 'block' : 'none';\n",
              "\n",
              "        async function convertToInteractive(key) {\n",
              "          const element = document.querySelector('#df-0aaa2658-3eee-4c20-9dba-1dd463673483');\n",
              "          const dataTable =\n",
              "            await google.colab.kernel.invokeFunction('convertToInteractive',\n",
              "                                                     [key], {});\n",
              "          if (!dataTable) return;\n",
              "\n",
              "          const docLinkHtml = 'Like what you see? Visit the ' +\n",
              "            '<a target=\"_blank\" href=https://colab.research.google.com/notebooks/data_table.ipynb>data table notebook</a>'\n",
              "            + ' to learn more about interactive tables.';\n",
              "          element.innerHTML = '';\n",
              "          dataTable['output_type'] = 'display_data';\n",
              "          await google.colab.output.renderOutput(dataTable, element);\n",
              "          const docLink = document.createElement('div');\n",
              "          docLink.innerHTML = docLinkHtml;\n",
              "          element.appendChild(docLink);\n",
              "        }\n",
              "      </script>\n",
              "    </div>\n",
              "  </div>\n",
              "  "
            ]
          },
          "metadata": {},
          "execution_count": 62
        }
      ]
    }
  ]
}